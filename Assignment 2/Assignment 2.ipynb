{
 "cells": [
  {
   "cell_type": "code",
   "execution_count": 41,
   "metadata": {},
   "outputs": [
    {
     "name": "stdout",
     "output_type": "stream",
     "text": [
      "(100, 2)\n"
     ]
    },
    {
     "data": {
      "image/png": "[encoded data removed]",
      "text/plain": [
       "<Figure size 432x288 with 1 Axes>"
      ]
     },
     "metadata": {
      "needs_background": "light"
     },
     "output_type": "display_data"
    }
   ],
   "source": [
    "import numpy as np\n",
    "from scipy.optimize import minimize\n",
    "from scipy import linalg\n",
    "import random\n",
    "import matplotlib.pyplot as plt\n",
    "# np . random . seed ( 0 )\n",
    "N = 100\n",
    "\n",
    "half_n = N//2\n",
    "r = 10\n",
    "s = r /16\n",
    "t = np.random.uniform(0 , 2*np . pi , half_n)\n",
    "n = s*np.random.randn (half_n)\n",
    "\n",
    "x , y = (r+n)*np.cos(t) , (r+n)*np.sin(t)\n",
    "X_circ = np.hstack ((x.reshape(half_n , 1) , y.reshape(half_n , 1)))\n",
    "\n",
    "m, b = -1, 2\n",
    "x = np.linspace (-12, 12 , half_n )\n",
    "y = m*x + b + s*np.random.randn(half_n)\n",
    "X_line = np . hstack (( x.reshape (half_n , 1) , y.reshape(half_n , 1)))\n",
    "\n",
    "X = np.vstack((X_circ , X_line))\n",
    "print(np.shape(X))\n",
    "\n",
    "plt.figure(1)\n",
    "# plt.scatter(X_circ[:,0],X_circ[:,1])\n",
    "# plt.scatter(X_line[:,0],X_line[:,1])\n",
    "plt.scatter(X[:,0],X[:,1])\n",
    "\n",
    "x_data = X[:,0]\n",
    "y_data = X[:,1]\n",
    "n = np.shape(X)[0]\n",
    "\n",
    "def random_sample(list):\n",
    "    sample_list = []\n",
    "\n",
    "\n",
    "\t\t# while True:\n",
    "\t\t# \tran = np.random.randint(n)\n",
    "\n",
    "\t\t# \tif ran not in rand_nums:\n",
    "\t\t# \t\tsample.append((list[ran][0], list[ran][1]))\n",
    "\t\t# \t\trand_nums.append(ran)\n",
    "\t\t\t\n",
    "\n",
    "\t\t# \t\tif len(sample) == 3:\n",
    "\t\t# \t\t\tbreak\n",
    "\n",
    "\t\t#return sample\n",
    "    rand_nums = random.sample(range(1, 100), 3)\n",
    "    for i in rand_nums:\n",
    "        sample_list.append((list[i][0], list[i][1]))\n",
    "    return sample_list\n",
    "\n",
    "def model(sample):\n",
    "\t\t# calculate A, B, C value from three points by using matrix\n",
    "\t\n",
    "\t\tpt1 = sample[0]\n",
    "\t\tpt2 = sample[1]\n",
    "\t\tpt3 = sample[2]\n",
    "\n",
    "\t\tA = np.array([[pt2[0] - pt1[0], pt2[1] - pt1[1]], [pt3[0] - pt2[0], pt3[1] - pt2[1]]]) \n",
    "\t\tB = np.array([[pt2[0]**2 - pt1[0]**2 + pt2[1]**2 - pt1[1]**2], [pt3[0]**2 - pt2[0]**2 + pt3[1]**2 - pt2[1]**2]])\t\t\n",
    "\t\tinv_A = np.pinv(A)\n",
    "\n",
    "\t\tc_x, c_y = np.dot(inv_A, B) / 2\n",
    "\t\tc_x, c_y = c_x[0], c_y[0]\n",
    "\t\tr = np.sqrt((c_x - pt1[0])**2 + (c_y - pt1[1])**2)\n",
    "\n",
    "\t\treturn c_x, c_y, r\n",
    "\n",
    "def inliers(x_data, y_data, c_x, c_y, r):\n",
    "    inliers = []\n",
    "    d = r//2\n",
    "\n",
    "    for i in range(len(x_data)):\n",
    "        dis = np.sqrt((x_data[i]-c_x)**2 + (y_data[i]-c_y)**2)\n",
    "        if dis < d:\n",
    "            inliers.append(i)\n",
    "        \n",
    "        return inliers\n",
    "\n",
    "max_inliers = []\n",
    "sample_list = \n",
    "  \n",
    "        "
   ]
  }
 ],
 "metadata": {
  "interpreter": {
   "hash": "c74c722da0cf12c8847204125a0cd7ede732a967eb9e7e84599622f0e33f16f8"
  },
  "kernelspec": {
   "display_name": "Python 3.8.8 ('testing')",
   "language": "python",
   "name": "python3"
  },
  "language_info": {
   "codemirror_mode": {
    "name": "ipython",
    "version": 3
   },
   "file_extension": ".py",
   "mimetype": "text/x-python",
   "name": "python",
   "nbconvert_exporter": "python",
   "pygments_lexer": "ipython3",
   "version": "3.8.8"
  },
  "orig_nbformat": 4
 },
 "nbformat": 4,
 "nbformat_minor": 2
}
