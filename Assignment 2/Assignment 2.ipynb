{
 "cells": [
  {
   "cell_type": "code",
   "execution_count": 144,
   "metadata": {},
   "outputs": [
    {
     "name": "stdout",
     "output_type": "stream",
     "text": [
      "(50, 2)\n",
      "6.0797930786240135\n",
      "14.695098638237107\n",
      "14.392709039089977\n",
      "15.927685480096459\n",
      "16.503052970382765\n",
      "22.324440263570683\n",
      "17.683925279707438\n",
      "17.942046748239328\n",
      "20.705047873012823\n",
      "16.845767244030792\n",
      "[2, 3, 5, 9, 13, 17, 19, 24, 25, 26, 27, 28, 29, 30, 33, 34, 35, 37, 40, 42, 43, 48]\n",
      "x =  -2.649022230452916\n",
      "y =  -6.2245027123066725\n",
      "r =  16.845767244030792\n"
     ]
    },
    {
     "data": {
      "text/plain": [
       "<matplotlib.patches.Circle at 0x1c42297d7f0>"
      ]
     },
     "execution_count": 144,
     "metadata": {},
     "output_type": "execute_result"
    },
    {
     "data": {
      "image/png": "[encoded data removed]",
      "text/plain": [
       "<Figure size 432x288 with 1 Axes>"
      ]
     },
     "metadata": {
      "needs_background": "light"
     },
     "output_type": "display_data"
    }
   ],
   "source": [
    "import numpy as np\n",
    "from scipy.optimize import minimize\n",
    "from scipy import linalg\n",
    "import random\n",
    "import matplotlib.pyplot as plt\n",
    "# np . random . seed ( 0 )\n",
    "N = 100\n",
    "\n",
    "half_n = N//2\n",
    "r = 10\n",
    "s = r /16\n",
    "t = np.random.uniform(0 , 2*np.pi , half_n)\n",
    "n = s*np.random.randn (half_n)\n",
    "\n",
    "x , y = (r+n)*np.cos(t) , (r+n)*np.sin(t)\n",
    "X_circ = np.hstack ((x.reshape(half_n , 1) , y.reshape(half_n , 1)))\n",
    "\n",
    "m, b = -1, 2\n",
    "x = np.linspace (-12, 12 , half_n )\n",
    "y = m*x + b + s*np.random.randn(half_n)\n",
    "X_line = np . hstack (( x.reshape (half_n , 1) , y.reshape(half_n , 1)))\n",
    "\n",
    "X = np.vstack((X_circ , X_line))\n",
    "print(np.shape(X_circ))\n",
    "\n",
    "plt.figure(1)\n",
    "plt.scatter(X[:,0],X[:,1])\n",
    "\n",
    "\n",
    "#n = np.shape(X)[0]\n",
    "\n",
    "def random_sample(list):\n",
    "    sample_list = []\n",
    "    rand_nums = random.sample(range(1, len(list)), 3)\n",
    "    for i in rand_nums:\n",
    "        sample_list.append((list[i][0], list[i][1]))\n",
    "    return sample_list\n",
    "\n",
    "def model(sample):\n",
    "\t\n",
    "    p1 = sample[0]\n",
    "    p2 = sample[1]\n",
    "    p3 = sample[2]\n",
    "\n",
    "    # A = np.array([[pt2[0] - pt1[0], pt2[1] - pt1[1]], [pt3[0] - pt2[0], pt3[1] - pt2[1]]]) \n",
    "    # B = np.array([[pt2[0]**2 - pt1[0]**2 + pt2[1]**2 - pt1[1]**2], [pt3[0]**2 - pt2[0]**2 + pt3[1]**2 - pt2[1]**2]])\t\t\n",
    "    # inv_A = np.linalg.pinv(A)\n",
    "\n",
    "    # c_x, c_y = np.dot(inv_A, B) / 2\n",
    "    # c_x, c_y = c_x[0], c_y[0]\n",
    "    # r = np.sqrt((c_x - pt1[0])**2 + (c_y - pt1[1])**2)\n",
    "\n",
    "    # return c_x, c_y, r\n",
    "    temp = p2[0] * p2[0] + p2[1] * p2[1]\n",
    "    bc = (p1[0] * p1[0] + p1[1] * p1[1] - temp) / 2\n",
    "    cd = (temp - p3[0] * p3[0] - p3[1] * p3[1]) / 2\n",
    "    det = (p1[0] - p2[0]) * (p2[1] - p3[1]) - (p2[0] - p3[0]) * (p1[1] - p2[1])\n",
    "\n",
    "    if abs(det) < 1.0e-6:\n",
    "        return (None, np.inf)\n",
    "\n",
    "    # Center of circle\n",
    "    c_x = (bc*(p2[1] - p3[1]) - cd*(p1[1] - p2[1])) / det\n",
    "    c_y = ((p1[0] - p2[0]) * cd - (p2[0] - p3[0]) * bc) / det\n",
    "\n",
    "    r = np.sqrt((c_x - p1[0])**2 + (c_y - p1[1])**2)\n",
    "    \n",
    "    return c_x, c_y, r\n",
    "\n",
    "def inliers(x_data, y_data, c_x, c_y, r):\n",
    "    inliers = []\n",
    "    d = r//2\n",
    "\n",
    "    for i in range(len(x_data)):\n",
    "        dis = np.sqrt((x_data[i]-c_x)**2 + (y_data[i]-c_y)**2)\n",
    "        if dis < d:\n",
    "            inliers.append(i)\n",
    "\n",
    "    return inliers\n",
    "\n",
    "max_inliers = []\n",
    "x_data = X_circ[:,0]\n",
    "y_data = X_circ[:,1]\n",
    "radius = 0\n",
    "center_x = 0\n",
    "center_y = 0\n",
    "for i in range(0,1000):\n",
    "    sample_list = random_sample(X_circ)\n",
    "    c_x, c_y, r = model(sample_list)\n",
    "   \n",
    "    inlier_list = inliers(x_data, y_data, c_x, c_y, r)\n",
    "    if len(inlier_list)>len(max_inliers):\n",
    "        print(r)\n",
    "        max_inliers = inlier_list\n",
    "        radius = r\n",
    "        center_x = c_x\n",
    "        center_y = c_y\n",
    "print(max_inliers)\n",
    "print(\"x = \" ,center_x)\n",
    "print(\"y = \" ,center_y)\n",
    "print(\"r = \" ,radius)\n",
    "circle = plt.Circle(( center_x , center_y ), radius, fill=False )\n",
    "fig = plt.gcf()\n",
    "ax = fig.gca() \n",
    "ax.add_patch(circle)      "
   ]
  }
 ],
 "metadata": {
  "interpreter": {
   "hash": "c74c722da0cf12c8847204125a0cd7ede732a967eb9e7e84599622f0e33f16f8"
  },
  "kernelspec": {
   "display_name": "Python 3.8.8 ('testing')",
   "language": "python",
   "name": "python3"
  },
  "language_info": {
   "codemirror_mode": {
    "name": "ipython",
    "version": 3
   },
   "file_extension": ".py",
   "mimetype": "text/x-python",
   "name": "python",
   "nbconvert_exporter": "python",
   "pygments_lexer": "ipython3",
   "version": "3.8.8"
  },
  "orig_nbformat": 4
 },
 "nbformat": 4,
 "nbformat_minor": 2
}
