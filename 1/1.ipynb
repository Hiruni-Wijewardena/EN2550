{
 "cells": [
  {
   "cell_type": "markdown",
   "metadata": {},
   "source": [
    "Name - L.H.N.WIJEWARDENA\n",
    "Index - 190713X"
   ]
  },
  {
   "cell_type": "code",
   "execution_count": 18,
   "metadata": {},
   "outputs": [
    {
     "name": "stdout",
     "output_type": "stream",
     "text": [
      "1 : 1\n",
      "2 : 4\n",
      "3 : 9\n",
      "4 : 16\n",
      "5 : 25\n"
     ]
    }
   ],
   "source": [
    "#question 1\n",
    "for i in range(1,6):\n",
    "  print(i,\":\",i**2)"
   ]
  },
  {
   "cell_type": "code",
   "execution_count": 1,
   "metadata": {},
   "outputs": [
    {
     "name": "stdout",
     "output_type": "stream",
     "text": [
      "1 : 1\n",
      "4 : 16\n"
     ]
    }
   ],
   "source": [
    "#question 2\n",
    "import sympy\n",
    "for i in range(1,6):\n",
    "  if not sympy.isprime(i):\n",
    "    print(i,\":\",i**2)\n"
   ]
  },
  {
   "cell_type": "code",
   "execution_count": 20,
   "metadata": {},
   "outputs": [
    {
     "name": "stdout",
     "output_type": "stream",
     "text": [
      "1 1\n",
      "2 4\n",
      "3 9\n",
      "4 16\n",
      "5 25\n"
     ]
    }
   ],
   "source": [
    "#question 3\n",
    "squares = [i**2 for i in range(1,6)]\n",
    "for i,i2 in enumerate(squares):\n",
    "  print(i+1,i2)"
   ]
  },
  {
   "cell_type": "code",
   "execution_count": 21,
   "metadata": {},
   "outputs": [
    {
     "name": "stdout",
     "output_type": "stream",
     "text": [
      "[1, 16]\n"
     ]
    }
   ],
   "source": [
    "#question 4\n",
    "import sympy\n",
    "squares = [i**2 for i in range (1,6) if not sympy.isprime(i)]\n",
    "print(squares)"
   ]
  },
  {
   "cell_type": "code",
   "execution_count": 22,
   "metadata": {},
   "outputs": [
    {
     "name": "stdout",
     "output_type": "stream",
     "text": [
      "[[ 9 12 15  9]\n",
      " [25 32 39 19]\n",
      " [41 52 63 29]]\n"
     ]
    }
   ],
   "source": [
    "#question 5a\n",
    "import numpy as np\n",
    "a= np.array([[1,2],[3,4],[5,6]])\n",
    "b= np.array([[7,8,9,1],[1,2,3,4]])\n",
    "c= np.matmul(a,b)\n",
    "print(c)"
   ]
  },
  {
   "cell_type": "code",
   "execution_count": 23,
   "metadata": {},
   "outputs": [
    {
     "name": "stdout",
     "output_type": "stream",
     "text": [
      "[[ 3  4]\n",
      " [15 16]\n",
      " [15  6]]\n"
     ]
    }
   ],
   "source": [
    "#question 5b\n",
    "a= np.array([[1,2],[3,4],[5,6]])\n",
    "b= np.array([[3,2],[5,4],[3,1]])\n",
    "print(np.multiply(a,b))"
   ]
  },
  {
   "cell_type": "code",
   "execution_count": 27,
   "metadata": {},
   "outputs": [
    {
     "name": "stdout",
     "output_type": "stream",
     "text": [
      "[[2.10679257 0.72292613 8.4948155  7.40728152 4.94193362 0.01973159\n",
      "  7.43698973]\n",
      " [1.56198974 1.35292158 8.36776717 0.75466403 3.42809551 0.39751907\n",
      "  7.80089798]\n",
      " [7.7308617  4.96334406 8.15385443 0.0687307  0.18166183 1.74445913\n",
      "  0.6749491 ]\n",
      " [1.2350822  7.95329354 8.46605238 9.13004022 0.17698511 7.88003643\n",
      "  1.04428636]\n",
      " [6.27864013 7.30703106 8.35028306 1.43679364 3.57536597 5.08578631\n",
      "  2.6191517 ]]\n",
      "[[7.7308617  4.96334406]\n",
      " [1.2350822  7.95329354]\n",
      " [6.27864013 7.30703106]]\n",
      "(3, 2)\n"
     ]
    }
   ],
   "source": [
    "#question 6\n",
    "rand_array=10*(np.random.rand(5,7)) # random array of 5x7\n",
    "print(rand_array)\n",
    "new_array=rand_array[2:5,0:2] #slicing\n",
    "print(new_array)\n",
    "print(new_array.shape) #size"
   ]
  },
  {
   "cell_type": "code",
   "execution_count": 30,
   "metadata": {},
   "outputs": [
    {
     "data": {
      "text/plain": [
       "array([4, 6, 8])"
      ]
     },
     "execution_count": 30,
     "metadata": {},
     "output_type": "execute_result"
    }
   ],
   "source": [
    "#question 7 example 1\n",
    "a= np.array([2,3,4])\n",
    "b = 2\n",
    "a*b  #b is broadcasted"
   ]
  },
  {
   "cell_type": "code",
   "execution_count": 31,
   "metadata": {},
   "outputs": [
    {
     "data": {
      "text/plain": [
       "array([[3, 4, 5],\n",
       "       [6, 7, 8]])"
      ]
     },
     "execution_count": 31,
     "metadata": {},
     "output_type": "execute_result"
    }
   ],
   "source": [
    "#question 7 example 2\n",
    "a=np.array([[1,2,3],[4,5,6]])\n",
    "b = np.array([2,2,2])\n",
    "a+b #b is broadcasted"
   ]
  },
  {
   "cell_type": "code",
   "execution_count": 32,
   "metadata": {},
   "outputs": [
    {
     "data": {
      "text/plain": [
       "array([[5, 7],\n",
       "       [8, 9]])"
      ]
     },
     "execution_count": 32,
     "metadata": {},
     "output_type": "execute_result"
    }
   ],
   "source": [
    "#question 7 example 3\n",
    "a=np.array([[2,4],[5,6]])\n",
    "b= 3\n",
    "a+b #b is broadcasted"
   ]
  },
  {
   "cell_type": "code",
   "execution_count": 28,
   "metadata": {},
   "outputs": [
    {
     "data": {
      "text/plain": [
       "array([[-1.2318969 ],\n",
       "       [ 0.98652629]])"
      ]
     },
     "execution_count": 28,
     "metadata": {},
     "output_type": "execute_result"
    },
    {
     "data": {
      "image/png": "[encoded data removed]",
      "text/plain": [
       "<Figure size 432x288 with 1 Axes>"
      ]
     },
     "metadata": {
      "needs_background": "light"
     },
     "output_type": "display_data"
    }
   ],
   "source": [
    "#question 8\n",
    "import numpy as np\n",
    "from numpy import linalg\n",
    "import matplotlib.pyplot as plt\n",
    "\n",
    "m,c = 2,-4\n",
    "N=10\n",
    "x = np . linspace (0 , N-1, N) . reshape (N, 1 )\n",
    "sigma = 10\n",
    "y = m*x + c + np . random . normal (0 , sigma , (N, 1 ) )\n",
    "plt.scatter(x,y)\n",
    "\n",
    "X= np.append(np.ones((N,1)),x,axis=1)\n",
    "\n",
    "w=linalg.inv(X.T @ X) @ X.T @ y\n",
    "w"
   ]
  },
  {
   "cell_type": "code",
   "execution_count": 29,
   "metadata": {},
   "outputs": [],
   "source": [
    "#question 10\n",
    "import cv2 as cv\n",
    "im= cv.imread(r'C:\\Users\\HIRUNI\\Desktop\\EN2550\\gal_gaussian.png')\n",
    "blur = cv.GaussianBlur(im,(5,5),0)\n",
    "cv.namedWindow('Image',cv.WINDOW_AUTOSIZE)\n",
    "cv.imshow('Image',im)\n",
    "cv.waitKey(0)\n",
    "cv.imshow('Image',blur)\n",
    "cv.waitKey(0)\n",
    "cv.destroyAllWindows()"
   ]
  },
  {
   "cell_type": "code",
   "execution_count": 15,
   "metadata": {},
   "outputs": [],
   "source": [
    "#question 11\n",
    "import cv2 as cv\n",
    "im= cv.imread(r'C:\\Users\\HIRUNI\\Desktop\\EN2550\\gal_sandp.png')\n",
    "blur=cv.medianBlur(im,5)\n",
    "cv.namedWindow('Image',cv.WINDOW_AUTOSIZE)\n",
    "cv.imshow('Image',im)\n",
    "cv.waitKey(0)\n",
    "cv.imshow('Image',blur)\n",
    "cv.waitKey(0)\n",
    "cv.destroyAllWindows()"
   ]
  },
  {
   "cell_type": "code",
   "execution_count": 38,
   "metadata": {},
   "outputs": [
    {
     "data": {
      "image/png": "[encoded data removed]",
      "text/plain": [
       "<Figure size 432x288 with 1 Axes>"
      ]
     },
     "metadata": {
      "needs_background": "light"
     },
     "output_type": "display_data"
    }
   ],
   "source": [
    "#question 12\n",
    "import numpy as np\n",
    "import cv2 as cv\n",
    "\n",
    "im=np.zeros((40,60),dtype=np.uint8)\n",
    "im[0:21 , 30:61] = 125\n",
    "fig,ax = plt.subplots()\n",
    "ax.imshow(im, cmap='gray',vmin=0, vmax=255)\n",
    "plt.show()\n"
   ]
  },
  {
   "cell_type": "code",
   "execution_count": 41,
   "metadata": {},
   "outputs": [
    {
     "data": {
      "image/png": "[encoded data removed]",
      "text/plain": [
       "<Figure size 432x288 with 1 Axes>"
      ]
     },
     "metadata": {
      "needs_background": "light"
     },
     "output_type": "display_data"
    }
   ],
   "source": [
    "\n",
    "#question 13\n",
    "import numpy as np\n",
    "import cv2 as cv\n",
    "\n",
    "data = np.zeros((40, 60, 3), dtype=np.uint8)\n",
    "data[20:41, 00:31] = [218 ,24, 132] # Barbie pink patch in bottom left corner\n",
    "fig,ax = plt.subplots()\n",
    "ax.imshow(data)\n",
    "plt.show()\n"
   ]
  },
  {
   "cell_type": "code",
   "execution_count": 33,
   "metadata": {},
   "outputs": [],
   "source": [
    "#question 14\n",
    "im= cv.imread(r'C:\\Users\\HIRUNI\\Desktop\\EN2550\\tom_dark.jpg')\n",
    "im = im+100 # increase the brighness by 100\n",
    "cv.imshow('Image',im)\n",
    "cv.waitKey(0)\n",
    "cv.destroyAllWindows()"
   ]
  }
 ],
 "metadata": {
  "interpreter": {
   "hash": "c74c722da0cf12c8847204125a0cd7ede732a967eb9e7e84599622f0e33f16f8"
  },
  "kernelspec": {
   "display_name": "Python 3.8.8 64-bit ('testing': conda)",
   "language": "python",
   "name": "python3"
  },
  "language_info": {
   "codemirror_mode": {
    "name": "ipython",
    "version": 3
   },
   "file_extension": ".py",
   "mimetype": "text/x-python",
   "name": "python",
   "nbconvert_exporter": "python",
   "pygments_lexer": "ipython3",
   "version": "3.8.8"
  },
  "orig_nbformat": 4
 },
 "nbformat": 4,
 "nbformat_minor": 2
}
