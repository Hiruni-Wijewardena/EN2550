{
 "cells": [
  {
   "cell_type": "code",
   "execution_count": 5,
   "metadata": {},
   "outputs": [],
   "source": [
    "import cv2 as cv\n",
    "import numpy as np\n",
    "import matplotlib.pyplot as plt\n",
    "f=open(r'templeSparseRing\\templeSR_par.txt','r')\n",
    "assert f is not None\n",
    "n= int(f.readline())\n",
    "\n",
    "#reading the information of the 2nd image \n",
    "l=f.readline().split()\n",
    "im1_fn=l[0]\n",
    "\n",
    "k1=np.array([float(i) for i in l[1:10]]).reshape((3,3))\n",
    "R1=np.array([float(i) for i in l[10:19]]).reshape((3,3))\n",
    "t1=np.array([float(i) for i in l[19:22]]).reshape((3,1))\n",
    "\n",
    "#reading the information of the 2nd image \n",
    "\n",
    "l=f.readline().split()\n",
    "im2_fn=l[0]\n",
    "\n",
    "k2=np.array([float(i) for i in l[1:10]]).reshape((3,3))\n",
    "R2=np.array([float(i) for i in l[10:19]]).reshape((3,3))\n",
    "t2=np.array([float(i) for i in l[19:22]]).reshape((3,1))\n",
    "\n",
    "#read the two images and show\n",
    "im1= cv.imread(r'templeSparseRing/' + im1_fn,cv.IMREAD_COLOR)\n",
    "im2= cv.imread(r'templeSparseRing/' + im2_fn,cv.IMREAD_COLOR)\n",
    "assert im1 is not None\n",
    "\n",
    "#compute p1 and p2\n",
    "#P=k*[R|t]\n",
    "P1=k1@np.hstack((R1,t1)) \n",
    "P2=k2@np.hstack((R2,t2))"
   ]
  }
 ],
 "metadata": {
  "interpreter": {
   "hash": "c74c722da0cf12c8847204125a0cd7ede732a967eb9e7e84599622f0e33f16f8"
  },
  "kernelspec": {
   "display_name": "Python 3.8.8 ('testing')",
   "language": "python",
   "name": "python3"
  },
  "language_info": {
   "codemirror_mode": {
    "name": "ipython",
    "version": 3
   },
   "file_extension": ".py",
   "mimetype": "text/x-python",
   "name": "python",
   "nbconvert_exporter": "python",
   "pygments_lexer": "ipython3",
   "version": "3.8.8"
  },
  "orig_nbformat": 4
 },
 "nbformat": 4,
 "nbformat_minor": 2
}
