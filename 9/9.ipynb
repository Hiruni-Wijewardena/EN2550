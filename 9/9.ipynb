{
 "cells": [
  {
   "cell_type": "code",
   "execution_count": 1,
   "metadata": {},
   "outputs": [],
   "source": [
    "import cv2 as cv\n",
    "import numpy as np\n",
    "import matplotlib.pyplot as plt\n",
    "f=open(r'templeSparseRing\\templeSR_par.txt','r')\n",
    "assert f is not None\n",
    "n= int(f.readline())\n",
    "\n",
    "#reading the information of the 2nd image \n",
    "l=f.readline().split()\n",
    "im1_fn=l[0]\n",
    "\n",
    "k1=np.array([float(i) for i in l[1:10]]).reshape((3,3))\n",
    "R1=np.array([float(i) for i in l[10:19]]).reshape((3,3))\n",
    "t1=np.array([float(i) for i in l[19:22]]).reshape((3,1))\n",
    "\n",
    "#reading the information of the 2nd image \n",
    "\n",
    "l=f.readline().split()\n",
    "im2_fn=l[0]\n",
    "\n",
    "k2=np.array([float(i) for i in l[1:10]]).reshape((3,3))\n",
    "R2=np.array([float(i) for i in l[10:19]]).reshape((3,3))\n",
    "t2=np.array([float(i) for i in l[19:22]]).reshape((3,1))\n",
    "\n",
    "#read the two images and show\n",
    "im1= cv.imread(r'templeSparseRing/' + im1_fn,cv.IMREAD_COLOR)\n",
    "im2= cv.imread(r'templeSparseRing/' + im2_fn,cv.IMREAD_COLOR)\n",
    "assert im1 is not None\n",
    "assert im2 is not None\n",
    "\n"
   ]
  },
  {
   "cell_type": "code",
   "execution_count": 12,
   "metadata": {},
   "outputs": [
    {
     "name": "stdout",
     "output_type": "stream",
     "text": [
      "[[-2.92272774e-06 -1.07825108e-05 -5.69762921e-02]\n",
      " [ 2.14158681e-05 -1.12610694e-07 -1.22955856e-02]\n",
      " [ 5.69647752e-02  5.90541351e-03  1.00000000e+00]]\n"
     ]
    }
   ],
   "source": [
    "sift = cv.xfeatures2d.SIFT_create()\n",
    "kp1, decs1 = sift.detectAndCompute(im1, None)\n",
    "kp2, decs2 = sift.detectAndCompute(im2, None)\n",
    "\n",
    "FLANN_INDEX_KDTREE = 1\n",
    "index_params = dict(algorithm =FLANN_INDEX_KDTREE, trees = 5 )\n",
    "search_params = dict(check=100)\n",
    "flann = cv.FlannBasedMatcher(index_params, search_params)\n",
    "matches = flann.knnMatch(decs1, decs2, k=2)\n",
    "\n",
    "good = []\n",
    "pts1 = []\n",
    "pts2 = []\n",
    "for i, (m,n) in enumerate(matches):\n",
    "    if m.distance < 0.7*n.distance:\n",
    "        good.append(m)\n",
    "        pts1.append(kp1[m.queryIdx].pt)\n",
    "        pts2.append(kp2[m.trainIdx].pt)\n",
    "\n",
    "pts1 = np.array(pts1)\n",
    "pts2 = np.array(pts2)\n",
    "\n",
    "F,mask = cv.findFundamentalMat(pts1, pts2, cv.FM_RANSAC)\n",
    "\n",
    "E = k2.T @ F @ k1\n",
    "retval, R, t, mask = cv.recoverPose(E, pts1, pts2, k1)\n",
    "\n",
    "R_t_1 = np.concatenate((R1, t1), axis =1) # 3 x 4\n",
    "R2_ = R1 @ R\n",
    "t2_ = R1 @ t\n",
    "R_t_2 = np.concatenate(R2_, )\n",
    "print(F)"
   ]
  },
  {
   "cell_type": "code",
   "execution_count": null,
   "metadata": {},
   "outputs": [],
   "source": []
  }
 ],
 "metadata": {
  "interpreter": {
   "hash": "c74c722da0cf12c8847204125a0cd7ede732a967eb9e7e84599622f0e33f16f8"
  },
  "kernelspec": {
   "display_name": "Python 3.8.8 ('testing')",
   "language": "python",
   "name": "python3"
  },
  "language_info": {
   "codemirror_mode": {
    "name": "ipython",
    "version": 3
   },
   "file_extension": ".py",
   "mimetype": "text/x-python",
   "name": "python",
   "nbconvert_exporter": "python",
   "pygments_lexer": "ipython3",
   "version": "3.8.8"
  },
  "orig_nbformat": 4
 },
 "nbformat": 4,
 "nbformat_minor": 2
}
